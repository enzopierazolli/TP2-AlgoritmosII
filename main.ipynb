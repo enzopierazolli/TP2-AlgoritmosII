{
 "cells": [
  {
   "cell_type": "code",
   "execution_count": 24,
   "metadata": {},
   "outputs": [],
   "source": [
    "import matplotlib.pyplot as plt\n",
    "import networkx as nx\n",
    "import numpy as np\n",
    "import math\n",
    "import tsplib95\n",
    "import time\n",
    "from memory_profiler import profile\n",
    "from queue import PriorityQueue"
   ]
  },
  {
   "cell_type": "markdown",
   "metadata": {},
   "source": [
    "### Implementações Auxiliares\n"
   ]
  },
  {
   "cell_type": "code",
   "execution_count": 25,
   "metadata": {},
   "outputs": [],
   "source": [
    "def calculate_distance(coord1, coord2):\n",
    "    x1, y1 = coord1\n",
    "    x2, y2 = coord2\n",
    "    return ((x1 - x2)**2 + (y1 - y2)**2)**0.5\n",
    "\n",
    "def create_adjacency_matrix(tsp_instance):\n",
    "    dimension = tsp_instance['dimension']\n",
    "    node_coords = tsp_instance['node_coords']\n",
    "\n",
    "    A = [[0] * dimension for _ in range(dimension)]\n",
    "\n",
    "    for i in range(dimension):\n",
    "        for j in range(dimension):\n",
    "            if i != j:\n",
    "                A[i][j] = calculate_distance(node_coords[i + 1], node_coords[j + 1])\n",
    "\n",
    "    return A\n",
    "\n",
    "def convert_to_graph(adjacency_matrix):\n",
    "    G = nx.Graph()\n",
    "\n",
    "    for i in range(len(adjacency_matrix)):\n",
    "        for j in range(i + 1, len(adjacency_matrix[i])):\n",
    "            G.add_edge(i, j, weight=adjacency_matrix[i][j])\n",
    "\n",
    "    return G\n",
    "\n",
    "def pathWeight(graph, path):\n",
    "    adjusted_path = [node - 1 for node in path]\n",
    "    return sum(graph[adjusted_path[i]][adjusted_path[i + 1]]['weight'] for i in range(len(path) - 1))"
   ]
  },
  {
   "attachments": {},
   "cell_type": "markdown",
   "metadata": {},
   "source": [
    "## Algoritmos"
   ]
  },
  {
   "cell_type": "markdown",
   "metadata": {},
   "source": [
    "### Branch and Bound  "
   ]
  },
  {
   "cell_type": "code",
   "execution_count": 26,
   "metadata": {},
   "outputs": [],
   "source": [
    "class Node:\n",
    "    def __init__(self, bound, path, edges, cost):\n",
    "        self.bound = bound\n",
    "        self.path = path\n",
    "        self.edges = edges\n",
    "        self.cost = cost\n",
    "    \n",
    "    def __lt__(self, other):\n",
    "        if len(self.path) == len(other.path): \n",
    "            return self.cost < other.cost  \n",
    "        elif len(self.path) != len(other.path):\n",
    "            return len(self.path) > len(other.path)\n",
    "        \n",
    "def first_bound(graph):\n",
    "    bound = 0\n",
    "    num_of_nodes = len(graph)\n",
    "    initial_bound_edges = np.zeros((num_of_nodes + 1, 2))\n",
    "\n",
    "    for i in range(0, num_of_nodes):\n",
    "        m1, m2 = smallestEdges(graph, i)\n",
    "        initial_bound_edges[i][0] = m1\n",
    "        initial_bound_edges[i][1] = m2\n",
    "        bound += m1 + m2\n",
    "\n",
    "    return bound / 2, initial_bound_edges\n",
    "\n",
    "def smallestEdges(graph, node):\n",
    "    m1 = math.inf\n",
    "    m2 = math.inf\n",
    "    for other_node in range(len(graph)):\n",
    "        if other_node != node:\n",
    "            weight = graph[node][other_node]\n",
    "            if weight < m1:\n",
    "                m2 = m1\n",
    "                m1 = weight\n",
    "            elif weight < m2:\n",
    "                m2 = weight\n",
    "    return m1, m2\n",
    "\n",
    "\n",
    "def nodeBound(graph, path, edges, bound):\n",
    "    num_of_nodes = len(graph)\n",
    "    changed_edges = np.zeros(num_of_nodes, dtype=int)\n",
    "    new_edges = np.array(edges)\n",
    "\n",
    "    edgeW = graph[path[-2]][path[-1]]\n",
    "    total = bound * 2\n",
    "\n",
    "    if new_edges[path[-2]][0] != edgeW:\n",
    "        if changed_edges[path[-2]] == 0:\n",
    "            total -= new_edges[path[-2]][1]\n",
    "            total += edgeW\n",
    "        else:\n",
    "            total -= new_edges[path[-2]][0]\n",
    "            total += edgeW\n",
    "        changed_edges[path[-2]] += 1\n",
    "\n",
    "    if new_edges[path[-1]][0] != edgeW:\n",
    "        if changed_edges[path[-1]] == 0:\n",
    "            total -= new_edges[path[-1]][1]\n",
    "            total += edgeW\n",
    "        elif new_edges[path[-1]][0] == edgeW:\n",
    "            total -= new_edges[path[-1]][0]\n",
    "            total += edgeW\n",
    "        changed_edges[path[-1]] += 1\n",
    "\n",
    "    return total/2, new_edges\n",
    "\n",
    "def BranchAndBoundTSP(graph):\n",
    "    import math\n",
    "\n",
    "    opt_val = math.inf\n",
    "    optimal_solution = []\n",
    "    initial_bound, initial_bound_edges = first_bound(graph)\n",
    "    root = Node(initial_bound, [0], initial_bound_edges, 0)  # Start with node 0\n",
    "    pq = PriorityQueue()\n",
    "    pq.put(root)\n",
    "    num_of_nodes = len(graph)\n",
    "\n",
    "    while not pq.empty():\n",
    "        node = pq.get()\n",
    "        level = len(node.path)\n",
    "\n",
    "        if level == num_of_nodes:\n",
    "            # verifica a conexão entre o primeiro e o último nó\n",
    "            if graph[node.path[-1]][node.path[0]] != math.inf:\n",
    "                total_cost = node.cost + graph[node.path[-1]][node.path[0]]\n",
    "                if total_cost < opt_val:\n",
    "                    opt_val = total_cost\n",
    "                    optimal_solution = node.path + [node.path[0]]\n",
    "        else:\n",
    "            if node.bound < opt_val:\n",
    "                for k in range(num_of_nodes):\n",
    "                    if k not in node.path:\n",
    "                        new_solution = node.path + [k]\n",
    "                        edgeW = graph[node.path[-1]][k]\n",
    "                        new_bound, new_edges = nodeBound(graph, new_solution, node.edges, node.bound)\n",
    "\n",
    "                        if new_bound < opt_val:\n",
    "                            new_cost = node.cost + edgeW\n",
    "                            new_node = Node(new_bound, new_solution, new_edges, new_cost)\n",
    "                            pq.put(new_node)\n",
    "\n",
    "    return opt_val, optimal_solution\n"
   ]
  },
  {
   "cell_type": "markdown",
   "metadata": {},
   "source": [
    "### Twice Around The Tree"
   ]
  },
  {
   "cell_type": "code",
   "execution_count": 27,
   "metadata": {},
   "outputs": [],
   "source": [
    "def twiceAroundTheTreeTSP(graph):\n",
    "    MST = nx.minimum_spanning_tree(graph)\n",
    "    path = [node + 1 for node in nx.dfs_preorder_nodes(MST, 0)]\n",
    "    path.append((path[0]))\n",
    "    weight = pathWeight(graph, path)\n",
    "    return weight, path"
   ]
  },
  {
   "cell_type": "markdown",
   "metadata": {},
   "source": [
    "### Christofides"
   ]
  },
  {
   "cell_type": "code",
   "execution_count": 28,
   "metadata": {},
   "outputs": [],
   "source": [
    "def shortPath(graph):\n",
    "    path = [x[0] for x in nx.eulerian_circuit(graph, 0)]\n",
    "    shortcutPath = list(dict.fromkeys(path))\n",
    "\n",
    "    \n",
    "    return [node + 1 for node in shortcutPath] + [shortcutPath[0] + 1]\n",
    "\n",
    "def christofidesTSP(graph):\n",
    "    MST = nx.minimum_spanning_tree(graph)\n",
    "    degrees = nx.degree(MST)\n",
    "    oddN = [x[0] for x in degrees if degrees[x[0]] % 2 == 1]\n",
    "    oddNSubgraph = nx.subgraph(graph, oddN)\n",
    "    matching = list(nx.min_weight_matching(oddNSubgraph))\n",
    "    MSTMultiGraph = nx.MultiGraph(MST)\n",
    "    MSTMultiGraph.add_edges_from((node1, node2, {'weight': graph[node1][node2]['weight']}) for node1, node2 in matching)\n",
    "    short_path = shortPath(MSTMultiGraph)\n",
    "    weight_of_path = pathWeight(graph, short_path)\n",
    "\n",
    "    return weight_of_path, short_path\n",
    "\n",
    "\n"
   ]
  },
  {
   "cell_type": "markdown",
   "metadata": {},
   "source": [
    "# Testes"
   ]
  },
  {
   "cell_type": "markdown",
   "metadata": {},
   "source": [
    "Instâncias selecionadas que possuem semelhantes as demais para facilitar a visualização dos resultados"
   ]
  },
  {
   "cell_type": "code",
   "execution_count": 29,
   "metadata": {},
   "outputs": [],
   "source": [
    "file_paths = {\n",
    "1: (\"eil51.tsp\", 51),\n",
    "2:(\"berlin52.tsp\", 52), \n",
    "3: (\"kroA100.tsp\", 100),\n",
    "4: (\"ch150.tsp\", 150), \n",
    "5: (\"kroA200.tsp\", 200),\n",
    "6: (\"d493.tsp\", 493),\n",
    "7: (\"u1060.tsp\", 1060),\n",
    "8: (\"d1655.tsp\", 1655),\n",
    "9: (\"u2152.tsp\", 2152)\n",
    "}"
   ]
  },
  {
   "cell_type": "code",
   "execution_count": 32,
   "metadata": {},
   "outputs": [
    {
     "name": "stdout",
     "output_type": "stream",
     "text": [
      "./instances/eil51.tsp\n",
      "Tempo de execução: 0.03716135025024414 segundos\n",
      "./instances/berlin52.tsp\n",
      "Tempo de execução: 0.04227495193481445 segundos\n",
      "./instances/kroA100.tsp\n",
      "Tempo de execução: 0.1478426456451416 segundos\n",
      "./instances/ch150.tsp\n",
      "Tempo de execução: 0.1895761489868164 segundos\n",
      "./instances/kroA200.tsp\n",
      "Tempo de execução: 1.399641990661621 segundos\n",
      "./instances/d493.tsp\n",
      "Tempo de execução: 10.123822212219238 segundos\n",
      "./instances/u1060.tsp\n",
      "Tempo de execução: 89.00659465789795 segundos\n",
      "./instances/d1655.tsp\n",
      "Tempo de execução: 98.92541456222534 segundos\n",
      "./instances/u2152.tsp\n",
      "Tempo de execução: 162.38830065727234 segundos\n"
     ]
    }
   ],
   "source": [
    "def evaluate_time(algoritmo, grafo):\n",
    "    start_time = time.time()\n",
    "    a, b = algoritmo(grafo)\n",
    "    end_time = time.time()\n",
    "\n",
    "    tempo_gasto = end_time - start_time\n",
    "    print(\"Tempo de execução:\", end_time - start_time, \"segundos\")\n",
    "\n",
    "    return a,b,tempo_gasto\n",
    "\n",
    "#@profile   o profile deve ser executado em um script.py\n",
    "def evaluate_space(algoritmo, grafo):\n",
    "    sol, path = algoritmo(grafo)\n",
    "    return sol, path \n",
    "\n",
    "\n",
    "christofides = {}\n",
    "christofides2 = {}\n",
    "\n",
    "for i in range(1, len(file_paths) + 1):\n",
    "    fpath, vertex = file_paths[i]\n",
    "    filePath = \"./instances/\" + fpath\n",
    "    print(filePath)\n",
    "    problem = tsplib95.load(filePath)\n",
    "    adjacency_matrix = create_adjacency_matrix(problem.as_dict())\n",
    "    grafo = convert_to_graph(adjacency_matrix)\n",
    "    a, b, tempo = evaluate_time(christofidesTSP, grafo)\n",
    "    christofides2[vertex] = a\n",
    "    christofides[vertex] = tempo\n"
   ]
  },
  {
   "cell_type": "code",
   "execution_count": 33,
   "metadata": {},
   "outputs": [
    {
     "name": "stdout",
     "output_type": "stream",
     "text": [
      "./instances/eil51.tsp\n",
      "Tempo de execução: 0.00427699089050293 segundos\n",
      "./instances/berlin52.tsp\n",
      "Tempo de execução: 0.004741191864013672 segundos\n",
      "./instances/kroA100.tsp\n",
      "Tempo de execução: 0.02621626853942871 segundos\n",
      "./instances/ch150.tsp\n",
      "Tempo de execução: 0.04034066200256348 segundos\n",
      "./instances/kroA200.tsp\n",
      "Tempo de execução: 0.06943130493164062 segundos\n",
      "./instances/d493.tsp\n",
      "Tempo de execução: 0.37976551055908203 segundos\n",
      "./instances/u1060.tsp\n",
      "Tempo de execução: 4.158163785934448 segundos\n",
      "./instances/d1655.tsp\n",
      "Tempo de execução: 7.4725024700164795 segundos\n",
      "./instances/u2152.tsp\n",
      "Tempo de execução: 12.323882102966309 segundos\n"
     ]
    }
   ],
   "source": [
    "\n",
    "TAT = {}\n",
    "TAT2 = {}\n",
    "\n",
    "for i in range(1, len(file_paths) + 1):\n",
    "    fpath, vertex = file_paths[i]\n",
    "    filePath = \"./instances/\" + fpath\n",
    "    print(filePath)\n",
    "    problem = tsplib95.load(filePath)\n",
    "    adjacency_matrix = create_adjacency_matrix(problem.as_dict())\n",
    "    grafo = convert_to_graph(adjacency_matrix)\n",
    "    a, b, tempo = evaluate_time(twiceAroundTheTreeTSP, grafo)\n",
    "    TAT[vertex] = tempo\n",
    "    TAT2[vertex] = a"
   ]
  },
  {
   "cell_type": "markdown",
   "metadata": {},
   "source": [
    "--------------------------------------------------------------------------------------------------------------------"
   ]
  },
  {
   "cell_type": "code",
   "execution_count": 34,
   "metadata": {},
   "outputs": [
    {
     "data": {
      "image/png": "[encoded data removed]",
      "text/plain": [
       "<Figure size 640x480 with 1 Axes>"
      ]
     },
     "metadata": {},
     "output_type": "display_data"
    }
   ],
   "source": [
    "def plot_grafico(dicionario1, dicionario2):\n",
    "    chaves1 = list(dicionario1.keys())\n",
    "    valores1 = list(dicionario1.values())\n",
    "\n",
    "    chaves2 = list(dicionario2.keys())\n",
    "    valores2 = list(dicionario2.values())\n",
    "\n",
    "    plt.plot(chaves1, valores1, marker='o', label='Christofides')\n",
    "    plt.plot(chaves2, valores2, marker='o', label='Twice Around The Tree')\n",
    "\n",
    "    plt.xlabel('Número de Vértices ')\n",
    "    plt.ylabel('Tempo Gasto(em segundos)')\n",
    "    plt.title('Tempo gasto por algoritmo em função do número de cidades(vértices)')\n",
    "    plt.legend() \n",
    "    plt.grid(True)\n",
    "    plt.show()\n",
    "\n",
    "plot_grafico(christofides, TAT)"
   ]
  },
  {
   "cell_type": "code",
   "execution_count": 35,
   "metadata": {},
   "outputs": [],
   "source": [
    "solucoes_otimas = {\n",
    "    51: 426,\n",
    "    52: 7542,\n",
    "    100: 21282,\n",
    "    150: 6528,\n",
    "    200: 29368,\n",
    "    493: 35002,\n",
    "    1655: 62128,\n",
    "    2152: 64253\n",
    "}"
   ]
  },
  {
   "cell_type": "code",
   "execution_count": 36,
   "metadata": {},
   "outputs": [
    {
     "data": {
      "image/png": "[encoded data removed]",
      "text/plain": [
       "<Figure size 640x480 with 1 Axes>"
      ]
     },
     "metadata": {},
     "output_type": "display_data"
    }
   ],
   "source": [
    "import matplotlib.pyplot as plt\n",
    "\n",
    "def plot_scatter(dicionario1, dicionario2, dicionario3):\n",
    "    chaves1 = list(dicionario1.keys())\n",
    "    valores1 = list(dicionario1.values())\n",
    "\n",
    "    chaves2 = list(dicionario2.keys())\n",
    "    valores2 = list(dicionario2.values())\n",
    "\n",
    "    chaves3 = list(dicionario3.keys())\n",
    "    valores3 = list(dicionario3.values())    \n",
    "\n",
    "    plt.scatter(chaves1, valores1, label='SOLUÇÃO ÓTIMA', marker='o', color='black')\n",
    "    plt.scatter(chaves2, valores2, label='Christofides', marker='x', color='red')\n",
    "    plt.scatter(chaves3, valores3, label='Twice Around The Tree', marker='x', color='green')\n",
    "\n",
    "\n",
    "    plt.xlabel('Número de cidades(TSP)')\n",
    "    plt.ylabel('Solução Encontrada')\n",
    "    plt.legend()\n",
    "    plt.grid(True)\n",
    "    plt.show()\n",
    "\n",
    "christofides2.pop(1060)\n",
    "TAT2.pop(1060)\n",
    "\n",
    "\n",
    "plot_scatter(solucoes_otimas, christofides2,TAT2)\n"
   ]
  },
  {
   "cell_type": "code",
   "execution_count": null,
   "metadata": {},
   "outputs": [
    {
     "name": "stdout",
     "output_type": "stream",
     "text": [
      "Desvio médio Christofides: 12.2756413086538\n",
      "Desvio médio TAT: 36.36027895042995\n"
     ]
    }
   ],
   "source": [
    "def calcula_desvio_medio_percentual(dic_otimo, dic_aproximado):\n",
    "    if len(dic_otimo) != len(dic_aproximado):\n",
    "        raise ValueError(\"Os dicionários devem ter o mesmo número de elementos\")\n",
    "\n",
    "    n = len(dic_otimo)\n",
    "    desvios_percentuais = [abs((dic_otimo[chave] - dic_aproximado[chave]) / dic_otimo[chave]) * 100 for chave in dic_otimo]\n",
    "    \n",
    "    desvio_medio_percentual = sum(desvios_percentuais) / n\n",
    "    return desvio_medio_percentual\n",
    "\n",
    "\n",
    "desvio_medio = calcula_desvio_medio_percentual(solucoes_otimas, christofides2)\n",
    "print(f\"Desvio médio Christofides: {desvio_medio}\")\n",
    "\n",
    "desvio_medio = calcula_desvio_medio_percentual(solucoes_otimas, TAT2)\n",
    "print(f\"Desvio médio TAT: {desvio_medio}\")\n"
   ]
  }
 ],
 "metadata": {
  "kernelspec": {
   "display_name": "Python 3.8.10 64-bit",
   "language": "python",
   "name": "python3"
  },
  "language_info": {
   "codemirror_mode": {
    "name": "ipython",
    "version": 3
   },
   "file_extension": ".py",
   "mimetype": "text/x-python",
   "name": "python",
   "nbconvert_exporter": "python",
   "pygments_lexer": "ipython3",
   "version": "3.10.12"
  },
  "orig_nbformat": 4,
  "vscode": {
   "interpreter": {
    "hash": "916dbcbb3f70747c44a77c7bcd40155683ae19c65e1c03b4aa3499c5328201f1"
   }
  }
 },
 "nbformat": 4,
 "nbformat_minor": 2
}
